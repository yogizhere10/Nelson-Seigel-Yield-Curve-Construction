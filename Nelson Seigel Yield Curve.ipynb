{
 "cells": [
  {
   "cell_type": "markdown",
   "id": "215f6440",
   "metadata": {},
   "source": [
    "# Nelson Seigel Yield Curve Construction\n",
    "\n",
    "## Model Calibration & Plotting using Mean Squared Error optimization"
   ]
  },
  {
   "cell_type": "code",
   "execution_count": 1,
   "id": "b85615a7",
   "metadata": {},
   "outputs": [],
   "source": [
    "import numpy as np\n",
    "import pandas as pd\n",
    "from scipy.optimize import minimize"
   ]
  },
  {
   "cell_type": "code",
   "execution_count": 2,
   "id": "3658f4d1",
   "metadata": {},
   "outputs": [],
   "source": [
    "def nelson_siegel(params, maturity, yields):\n",
    "    a1, a2, a3, beta = params\n",
    "    bonds_df = pd.DataFrame(zip(maturity, yields))\n",
    "    bonds_df.columns = ['maturity', 'yields']\n",
    "    bonds_df['model_yields'] = 0\n",
    "    for i in range(bonds_df.shape[0]):\n",
    "        bonds_df.loc[i,'model_yields'] = a1 + (a2 + a3) * ((1 - np.exp(-bonds_df.loc[i,'maturity'] / beta)) / (bonds_df.loc[i,'maturity'] / beta)) - a3*np.exp(- bonds_df.loc[i,'maturity']/beta)\n",
    "    \n",
    "    obj_func = (bonds_df['model_yields'] - bonds_df['yields'])**2\n",
    "    \n",
    "    return obj_func.sum()"
   ]
  },
  {
   "cell_type": "code",
   "execution_count": 3,
   "id": "28ec6949",
   "metadata": {},
   "outputs": [],
   "source": [
    "maturity = np.array([1, 2, 3, 4, 5, 7, 10, 20, 30])\n",
    "yields = np.array([0.02, 0.03, 0.04, 0.05, 0.06, 0.08, 0.1, 0.12, 0.15])"
   ]
  },
  {
   "cell_type": "code",
   "execution_count": 4,
   "id": "1c5fad28",
   "metadata": {},
   "outputs": [
    {
     "data": {
      "text/html": [
       "<div>\n",
       "<style scoped>\n",
       "    .dataframe tbody tr th:only-of-type {\n",
       "        vertical-align: middle;\n",
       "    }\n",
       "\n",
       "    .dataframe tbody tr th {\n",
       "        vertical-align: top;\n",
       "    }\n",
       "\n",
       "    .dataframe thead th {\n",
       "        text-align: right;\n",
       "    }\n",
       "</style>\n",
       "<table border=\"1\" class=\"dataframe\">\n",
       "  <thead>\n",
       "    <tr style=\"text-align: right;\">\n",
       "      <th></th>\n",
       "      <th>yields</th>\n",
       "      <th>maturity</th>\n",
       "    </tr>\n",
       "  </thead>\n",
       "  <tbody>\n",
       "    <tr>\n",
       "      <th>0</th>\n",
       "      <td>0.02</td>\n",
       "      <td>1</td>\n",
       "    </tr>\n",
       "    <tr>\n",
       "      <th>1</th>\n",
       "      <td>0.03</td>\n",
       "      <td>2</td>\n",
       "    </tr>\n",
       "    <tr>\n",
       "      <th>2</th>\n",
       "      <td>0.04</td>\n",
       "      <td>3</td>\n",
       "    </tr>\n",
       "    <tr>\n",
       "      <th>3</th>\n",
       "      <td>0.05</td>\n",
       "      <td>4</td>\n",
       "    </tr>\n",
       "    <tr>\n",
       "      <th>4</th>\n",
       "      <td>0.06</td>\n",
       "      <td>5</td>\n",
       "    </tr>\n",
       "    <tr>\n",
       "      <th>5</th>\n",
       "      <td>0.08</td>\n",
       "      <td>7</td>\n",
       "    </tr>\n",
       "    <tr>\n",
       "      <th>6</th>\n",
       "      <td>0.10</td>\n",
       "      <td>10</td>\n",
       "    </tr>\n",
       "    <tr>\n",
       "      <th>7</th>\n",
       "      <td>0.12</td>\n",
       "      <td>20</td>\n",
       "    </tr>\n",
       "    <tr>\n",
       "      <th>8</th>\n",
       "      <td>0.15</td>\n",
       "      <td>30</td>\n",
       "    </tr>\n",
       "  </tbody>\n",
       "</table>\n",
       "</div>"
      ],
      "text/plain": [
       "   yields  maturity\n",
       "0    0.02         1\n",
       "1    0.03         2\n",
       "2    0.04         3\n",
       "3    0.05         4\n",
       "4    0.06         5\n",
       "5    0.08         7\n",
       "6    0.10        10\n",
       "7    0.12        20\n",
       "8    0.15        30"
      ]
     },
     "execution_count": 4,
     "metadata": {},
     "output_type": "execute_result"
    }
   ],
   "source": [
    "bonds_df = pd.DataFrame(maturity, yields).reset_index()\n",
    "bonds_df.columns = ['yields','maturity']\n",
    "bonds_df"
   ]
  },
  {
   "cell_type": "code",
   "execution_count": 5,
   "id": "8f3b3a0d",
   "metadata": {},
   "outputs": [],
   "source": [
    "def fit_yield_curve(bonds_df):\n",
    "    x0 = [0.05, -0.01, -0.02, 5.0] # Initial parameters for optimization\n",
    "    \n",
    "    result = minimize(nelson_siegel, x0, args=(maturity, yields))\n",
    "    return result.x"
   ]
  },
  {
   "cell_type": "code",
   "execution_count": 6,
   "id": "d8888ad2",
   "metadata": {},
   "outputs": [],
   "source": [
    "parameters = fit_yield_curve(bonds_df)"
   ]
  },
  {
   "cell_type": "code",
   "execution_count": 7,
   "id": "72d69649",
   "metadata": {},
   "outputs": [
    {
     "data": {
      "text/plain": [
       "array([ 0.17818322, -0.17400282, -0.02663104,  5.00142348])"
      ]
     },
     "execution_count": 7,
     "metadata": {},
     "output_type": "execute_result"
    }
   ],
   "source": [
    "parameters"
   ]
  },
  {
   "cell_type": "code",
   "execution_count": 8,
   "id": "0bdbae69",
   "metadata": {},
   "outputs": [],
   "source": [
    "a1, a2, a3, beta = parameters"
   ]
  },
  {
   "cell_type": "code",
   "execution_count": 9,
   "id": "f5606b1d",
   "metadata": {},
   "outputs": [
    {
     "data": {
      "text/html": [
       "<div>\n",
       "<style scoped>\n",
       "    .dataframe tbody tr th:only-of-type {\n",
       "        vertical-align: middle;\n",
       "    }\n",
       "\n",
       "    .dataframe tbody tr th {\n",
       "        vertical-align: top;\n",
       "    }\n",
       "\n",
       "    .dataframe thead th {\n",
       "        text-align: right;\n",
       "    }\n",
       "</style>\n",
       "<table border=\"1\" class=\"dataframe\">\n",
       "  <thead>\n",
       "    <tr style=\"text-align: right;\">\n",
       "      <th></th>\n",
       "      <th>yields</th>\n",
       "      <th>maturity</th>\n",
       "    </tr>\n",
       "  </thead>\n",
       "  <tbody>\n",
       "    <tr>\n",
       "      <th>0</th>\n",
       "      <td>0.02</td>\n",
       "      <td>1</td>\n",
       "    </tr>\n",
       "    <tr>\n",
       "      <th>1</th>\n",
       "      <td>0.03</td>\n",
       "      <td>2</td>\n",
       "    </tr>\n",
       "    <tr>\n",
       "      <th>2</th>\n",
       "      <td>0.04</td>\n",
       "      <td>3</td>\n",
       "    </tr>\n",
       "    <tr>\n",
       "      <th>3</th>\n",
       "      <td>0.05</td>\n",
       "      <td>4</td>\n",
       "    </tr>\n",
       "    <tr>\n",
       "      <th>4</th>\n",
       "      <td>0.06</td>\n",
       "      <td>5</td>\n",
       "    </tr>\n",
       "    <tr>\n",
       "      <th>5</th>\n",
       "      <td>0.08</td>\n",
       "      <td>7</td>\n",
       "    </tr>\n",
       "    <tr>\n",
       "      <th>6</th>\n",
       "      <td>0.10</td>\n",
       "      <td>10</td>\n",
       "    </tr>\n",
       "    <tr>\n",
       "      <th>7</th>\n",
       "      <td>0.12</td>\n",
       "      <td>20</td>\n",
       "    </tr>\n",
       "    <tr>\n",
       "      <th>8</th>\n",
       "      <td>0.15</td>\n",
       "      <td>30</td>\n",
       "    </tr>\n",
       "  </tbody>\n",
       "</table>\n",
       "</div>"
      ],
      "text/plain": [
       "   yields  maturity\n",
       "0    0.02         1\n",
       "1    0.03         2\n",
       "2    0.04         3\n",
       "3    0.05         4\n",
       "4    0.06         5\n",
       "5    0.08         7\n",
       "6    0.10        10\n",
       "7    0.12        20\n",
       "8    0.15        30"
      ]
     },
     "execution_count": 9,
     "metadata": {},
     "output_type": "execute_result"
    }
   ],
   "source": [
    "bonds_df"
   ]
  },
  {
   "cell_type": "code",
   "execution_count": 10,
   "id": "49297261",
   "metadata": {},
   "outputs": [],
   "source": [
    "bonds_df['model_maturity'] = a1 + (a2 + a3) * ((1 - np.exp(-bonds_df['maturity'] / beta)) / (bonds_df['maturity'] / beta)) - a3*np.exp(- bonds_df['maturity']/beta)"
   ]
  },
  {
   "cell_type": "code",
   "execution_count": 11,
   "id": "01b8f0b4",
   "metadata": {},
   "outputs": [],
   "source": [
    "import matplotlib.pyplot as plt"
   ]
  },
  {
   "cell_type": "code",
   "execution_count": 12,
   "id": "5a6b3f21",
   "metadata": {},
   "outputs": [
    {
     "data": {
      "image/png": "[encoded data removed]",
      "text/plain": [
       "<Figure size 864x576 with 1 Axes>"
      ]
     },
     "metadata": {
      "needs_background": "light"
     },
     "output_type": "display_data"
    }
   ],
   "source": [
    "# Plot yield curve\n",
    "fig, ax = plt.subplots(figsize=(12, 8))\n",
    "ax.plot(bonds_df['maturity'], bonds_df['yields'], 'o', label='Market Yields')\n",
    "ax.plot(bonds_df['maturity'], bonds_df['model_maturity'], label='Modeled Yields')\n",
    "ax.set_xlabel('Maturity (Years)')\n",
    "ax.set_ylabel('Yield')\n",
    "ax.set_title('Nelson-Siegel Yield Curve Model')\n",
    "ax.legend()\n",
    "plt.show()"
   ]
  },
  {
   "cell_type": "code",
   "execution_count": null,
   "id": "dd5f26ef",
   "metadata": {},
   "outputs": [],
   "source": []
  }
 ],
 "metadata": {
  "kernelspec": {
   "display_name": "Python 3",
   "language": "python",
   "name": "python3"
  },
  "language_info": {
   "codemirror_mode": {
    "name": "ipython",
    "version": 3
   },
   "file_extension": ".py",
   "mimetype": "text/x-python",
   "name": "python",
   "nbconvert_exporter": "python",
   "pygments_lexer": "ipython3",
   "version": "3.8.8"
  }
 },
 "nbformat": 4,
 "nbformat_minor": 5
}
